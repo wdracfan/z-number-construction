{
  "nbformat": 4,
  "nbformat_minor": 0,
  "metadata": {
    "colab": {
      "provenance": []
    },
    "kernelspec": {
      "name": "python3",
      "display_name": "Python 3"
    },
    "language_info": {
      "name": "python"
    }
  },
  "cells": [
    {
      "cell_type": "code",
      "execution_count": null,
      "metadata": {
        "id": "7vQZTpIPc5ch"
      },
      "outputs": [],
      "source": [
        "import numpy as np\n",
        "import matplotlib.pyplot as plt\n",
        "import scipy\n",
        "from tqdm import tqdm\n",
        "\n",
        "import warnings\n",
        "warnings.simplefilter(action='ignore', category=scipy.integrate.IntegrationWarning)"
      ]
    },
    {
      "cell_type": "markdown",
      "source": [
        "Класс для работы с трапециевидными нечёткими множествами $\\text{FS}(a,b,c,d)$:"
      ],
      "metadata": {
        "id": "7kDbkezUv6CX"
      }
    },
    {
      "cell_type": "code",
      "source": [
        "def trapezoid_mf(a, b, c, d):\n",
        "  '''\n",
        "  Вспомогательная функция для получения функции принадлежности трапециевидного НМ.\n",
        "  '''\n",
        "  return lambda x: \\\n",
        "    0 if x <= a or x >= d else \\\n",
        "    (x - a) / (b - a) if a < x <= b else \\\n",
        "    1 if b <= x <= c else \\\n",
        "    (d - x) / (d - c) if c < x <= d else \\\n",
        "    None\n",
        "\n",
        "class FuzzySet:\n",
        "  def __init__(self, a, b, c, d, u_min=None, u_max=None):\n",
        "    '''\n",
        "    a,b,c,d - значения, задающие НМ FS(a,b,c,d)\n",
        "    [u_min, u_max] - универсум, по умолчанию [a,d]\n",
        "    '''\n",
        "    self.mf = trapezoid_mf(a, b, c, d)\n",
        "    self.min = u_min if u_min != None else a\n",
        "    self.max = u_max if u_max != None else d\n",
        "    self.a, self.b, self.c, self.d = a, b, c, d\n",
        "\n",
        "  def plot(self):\n",
        "    '''\n",
        "    Функция для построения графика функции принадлежности НМ.\n",
        "    '''\n",
        "    xs = np.linspace(self.min, self.max, 100)\n",
        "    ys = [self.mf(x) for x in xs]\n",
        "    plt.plot(xs, ys)\n",
        "    plt.xlim(self.min, self.max)\n",
        "\n",
        "  def specificity(self):\n",
        "    '''\n",
        "    Функция для расчёта специфичности НМ.\n",
        "    '''\n",
        "    return 1 - (self.c + self.d - (self.a + self.b)) / (2 * (self.max - self.min))"
      ],
      "metadata": {
        "id": "-y2yUMFSeCs5"
      },
      "execution_count": null,
      "outputs": []
    },
    {
      "cell_type": "markdown",
      "source": [
        "Функция для построения гистограммы (как функции!) по набору данных:"
      ],
      "metadata": {
        "id": "wST8b7MZwCp8"
      }
    },
    {
      "cell_type": "code",
      "source": [
        "def histogram(data, bins):\n",
        "  '''\n",
        "  data - набор данных\n",
        "  bins - количество интервалов или строка sturges, sqrt и т.п.\n",
        "\n",
        "  Возвращает функцию-гистограмму.\n",
        "  '''\n",
        "  hist, bin_edges = np.histogram(data, bins, density=True)\n",
        "  def h(x):\n",
        "    for i in range(len(hist)):\n",
        "      if bin_edges[i] <= x < bin_edges[i + 1]:\n",
        "        return hist[i]\n",
        "    return 0\n",
        "  return h"
      ],
      "metadata": {
        "id": "6vSGpQBUjXir"
      },
      "execution_count": null,
      "outputs": []
    },
    {
      "cell_type": "markdown",
      "source": [
        "Функция для построения B-части Z-числа при фиксированной A-части (согласно подходу, предложенному в разделе 4.1 работы):"
      ],
      "metadata": {
        "id": "q-a4sVLmNXEV"
      }
    },
    {
      "cell_type": "code",
      "source": [
        "def calculate_b_part(A: FuzzySet, data, bins_min=3, bins_max=None, bins_step=1, bins_best=None, only_peak=False) -> FuzzySet:\n",
        "  '''\n",
        "  A - данная A-часть Z-числа\n",
        "  data - набор данных\n",
        "\n",
        "  Строятся гистограммы с разбиением на k интервалов, где k перебирается от bins_min до bins_max с шагом bins_step.\n",
        "  По умолчанию bins_min = 3, bins_max = len(data), bins_step = 1.\n",
        "\n",
        "  bins_best - наилучшее количество интервалов в гистограмме, допускаются также значения sturges и sqrt.\n",
        "  Должно быть выполнено bins_min <= bins_best <= bins_max или bins_best in ['sturges', 'sqrt'].\n",
        "  По умолчанию bins_best = 'sturges'.\n",
        "\n",
        "  Возвращает B-часть Z-числа, соответствующую данной A-части\n",
        "  '''\n",
        "  if bins_max == None:\n",
        "    bins_max = len(data)\n",
        "  if bins_best == None or bins_best == 'sturges':\n",
        "    bins_best = 1 + np.ceil(np.log(len(data)) / np.log(2))\n",
        "  elif bins_best == 'sqrt':\n",
        "    bins_best = np.ceil(np.sqrt(len(data)))\n",
        "  bins_best = int(bins_best)\n",
        "\n",
        "  assert(bins_min <= bins_best <= bins_max)\n",
        "\n",
        "  a, b = min(data.min(), A.min), max(data.max(), A.max)\n",
        "\n",
        "  if only_peak:\n",
        "    c = scipy.integrate.quad(lambda x: A.mf(x) * histogram(data, bins_best)(x), a=a, b=b)[0]\n",
        "    return FuzzySet(c, c, c, c, 0, 1)\n",
        "\n",
        "  l, c, r = None, None, None\n",
        "  for bins in range(bins_min, bins_max, bins_step):\n",
        "    similarity = scipy.integrate.quad(lambda x: A.mf(x) * histogram(data, bins)(x), a=a, b=b)[0]\n",
        "    if l == None or similarity < l:\n",
        "      l = similarity\n",
        "    if r == None or similarity > r:\n",
        "      r = similarity\n",
        "    if bins == bins_best:\n",
        "      c = similarity\n",
        "\n",
        "  if c == None:\n",
        "    c = scipy.integrate.quad(lambda x: A.mf(x) * histogram(data, bins_best)(x), a=a, b=b)[0]\n",
        "\n",
        "  return FuzzySet(l, c, c, r, 0, 1)"
      ],
      "metadata": {
        "id": "7nFvppsPNez0"
      },
      "execution_count": null,
      "outputs": []
    },
    {
      "cell_type": "markdown",
      "source": [
        "Класс для построения Z-чисел по набору данных:"
      ],
      "metadata": {
        "id": "bla85PcpLuJN"
      }
    },
    {
      "cell_type": "code",
      "source": [
        "class ZNumber:\n",
        "  def __init__(self):\n",
        "    pass\n",
        "\n",
        "  def fit(self, data,\n",
        "          bins_min=3, bins_max=None, bins_step=1, bins_best=None,\n",
        "          u_min=None, u_max=None, u_step=None,\n",
        "          optimize='specificity', beta=0.5, s_threshold=0.5, c_threshold=0.7,\n",
        "          defuzzify='peak'):\n",
        "    '''\n",
        "    Описания параметров bins_* см. в комментарии к функции calculate_b_part.\n",
        "\n",
        "    Перебор значений a,b,c,d, задающих A-часть FS(a,b,c,d), производится на отрезке [u_min, u_max] с шагом u_step.\n",
        "    По умолчанию u_min = min(data), u_max = max(data), u_step = (u_max - u_min) / 10.\n",
        "\n",
        "    optimize: 'specificity', 'b' или 'both' - что устремляется к максимуму (см. раздел 4.2 работы)\n",
        "    beta, s_threshold, c_threshold - параметры оптимизации (см. раздел 4.2 работы)\n",
        "\n",
        "    defuzzify: 'centroid' или 'peak' - дефаззификация B-части методом центроидов или по координате вершины\n",
        "    '''\n",
        "    if u_min == None:\n",
        "      u_min = min(data)\n",
        "    if u_max == None:\n",
        "      u_max = max(data)\n",
        "    if u_step == None:\n",
        "      u_step = (u_max - u_min) / 10\n",
        "\n",
        "    best_score = None\n",
        "    best_subscore = None\n",
        "    best_A = None\n",
        "\n",
        "    for a in tqdm(np.linspace(u_min, u_max, int((u_max - u_min) / u_step) + 1)):\n",
        "      for b in np.linspace(a, u_max, int((u_max - a) / u_step) + 1):\n",
        "        for c in np.linspace(b, u_max, int((u_max - b) / u_step) + 1):\n",
        "          for d in np.linspace(c, u_max, int((u_max - c) / u_step) + 1):\n",
        "            A = FuzzySet(a, b, c, d, u_min, u_max)\n",
        "            specificity = A.specificity()\n",
        "\n",
        "            if optimize == 'b' and specificity < s_threshold:\n",
        "              continue\n",
        "\n",
        "            B = calculate_b_part(A, data, bins_min, bins_max, bins_step, bins_best, only_peak=(defuzzify == 'peak'))\n",
        "            b_defuzzified = (B.a + B.b + B.d) / 3 if defuzzify == 'centroid' else B.b\n",
        "\n",
        "            if optimize == 'specificity' and b_defuzzified < c_threshold:\n",
        "              continue\n",
        "\n",
        "            if optimize == 'specificity':\n",
        "              score = specificity\n",
        "              subscore = b_defuzzified\n",
        "            elif optimize == 'b':\n",
        "              score = b_defuzzified\n",
        "              subscore = specificity\n",
        "            elif optimize == 'both':\n",
        "              score = beta * b_defuzzified + (1 - beta) * specificity\n",
        "              subscore = score\n",
        "\n",
        "            if best_score == None or best_score < score or best_score == score and best_subscore < subscore:\n",
        "              best_score = score\n",
        "              best_subscore = subscore\n",
        "              best_A = A\n",
        "\n",
        "    self.A = best_A\n",
        "    self.B = calculate_b_part(best_A, data, bins_min, bins_max, bins_step, bins_best, only_peak=False)\n",
        "\n",
        "  def plot(self):\n",
        "    print(f\"A = FS({self.A.a}, {self.A.b}, {self.A.c}, {self.A.d})\")\n",
        "    print(f\"B = FS({self.B.a}, {self.B.b}, {self.B.d})\")\n",
        "    plt.figure(figsize=(10,5))\n",
        "\n",
        "    plt.subplot(1, 2, 1)\n",
        "    self.A.plot()\n",
        "    plt.title('A-часть')\n",
        "\n",
        "    h = np.histogram(data, density=True)\n",
        "    plt.stairs(h[0] / max(h[0]), h[1], fill=True, color=(1, 0.5, 0, 0.4))\n",
        "\n",
        "    plt.subplot(1, 2, 2)\n",
        "    self.B.plot()\n",
        "    plt.ylim(0, 1.05)\n",
        "    plt.title('B-часть')\n",
        "\n",
        "    plt.show()"
      ],
      "metadata": {
        "id": "C-M6CmmRMeB0"
      },
      "execution_count": null,
      "outputs": []
    },
    {
      "cell_type": "markdown",
      "source": [
        "Сгенерируем выборку размера 1000 из смеси гауссовских распределений $\\mathcal N(0,1)$ и $\\mathcal N(2,1)$. Для наглядности построим гистограмму."
      ],
      "metadata": {
        "id": "GvjpaKjfT64d"
      }
    },
    {
      "cell_type": "code",
      "source": [
        "np.random.seed(0)\n",
        "data = np.hstack([\n",
        "    np.random.normal(0, 1, 500),\n",
        "    np.random.normal(2, 1, 500)\n",
        "])\n",
        "plt.hist(data, density=True)\n",
        "plt.show()"
      ],
      "metadata": {
        "colab": {
          "base_uri": "https://localhost:8080/",
          "height": 430
        },
        "id": "O5y7HK8TUYQU",
        "outputId": "d0a2b9d0-9bf7-4ed8-87bd-6a700699e1b2"
      },
      "execution_count": null,
      "outputs": [
        {
          "output_type": "display_data",
          "data": {
            "text/plain": [
              "<Figure size 640x480 with 1 Axes>"
            ],
            "image/png": "[encoded data removed]"
          },
          "metadata": {}
        }
      ]
    },
    {
      "cell_type": "markdown",
      "source": [
        "Выведем набор данных:"
      ],
      "metadata": {
        "id": "0wxwcTmXbyGg"
      }
    },
    {
      "cell_type": "code",
      "source": [
        "data"
      ],
      "metadata": {
        "colab": {
          "base_uri": "https://localhost:8080/"
        },
        "id": "16qNv07SbqRL",
        "outputId": "5f5201b4-9cd1-4bf7-9108-bef27a34885f",
        "collapsed": true
      },
      "execution_count": null,
      "outputs": [
        {
          "output_type": "execute_result",
          "data": {
            "text/plain": [
              "array([ 1.76405235e+00,  4.00157208e-01,  9.78737984e-01,  2.24089320e+00,\n",
              "        1.86755799e+00, -9.77277880e-01,  9.50088418e-01, -1.51357208e-01,\n",
              "       -1.03218852e-01,  4.10598502e-01,  1.44043571e-01,  1.45427351e+00,\n",
              "        7.61037725e-01,  1.21675016e-01,  4.43863233e-01,  3.33674327e-01,\n",
              "        1.49407907e+00, -2.05158264e-01,  3.13067702e-01, -8.54095739e-01,\n",
              "       -2.55298982e+00,  6.53618595e-01,  8.64436199e-01, -7.42165020e-01,\n",
              "        2.26975462e+00, -1.45436567e+00,  4.57585173e-02, -1.87183850e-01,\n",
              "        1.53277921e+00,  1.46935877e+00,  1.54947426e-01,  3.78162520e-01,\n",
              "       -8.87785748e-01, -1.98079647e+00, -3.47912149e-01,  1.56348969e-01,\n",
              "        1.23029068e+00,  1.20237985e+00, -3.87326817e-01, -3.02302751e-01,\n",
              "       -1.04855297e+00, -1.42001794e+00, -1.70627019e+00,  1.95077540e+00,\n",
              "       -5.09652182e-01, -4.38074302e-01, -1.25279536e+00,  7.77490356e-01,\n",
              "       -1.61389785e+00, -2.12740280e-01, -8.95466561e-01,  3.86902498e-01,\n",
              "       -5.10805138e-01, -1.18063218e+00, -2.81822283e-02,  4.28331871e-01,\n",
              "        6.65172224e-02,  3.02471898e-01, -6.34322094e-01, -3.62741166e-01,\n",
              "       -6.72460448e-01, -3.59553162e-01, -8.13146282e-01, -1.72628260e+00,\n",
              "        1.77426142e-01, -4.01780936e-01, -1.63019835e+00,  4.62782256e-01,\n",
              "       -9.07298364e-01,  5.19453958e-02,  7.29090562e-01,  1.28982911e-01,\n",
              "        1.13940068e+00, -1.23482582e+00,  4.02341641e-01, -6.84810091e-01,\n",
              "       -8.70797149e-01, -5.78849665e-01, -3.11552532e-01,  5.61653422e-02,\n",
              "       -1.16514984e+00,  9.00826487e-01,  4.65662440e-01, -1.53624369e+00,\n",
              "        1.48825219e+00,  1.89588918e+00,  1.17877957e+00, -1.79924836e-01,\n",
              "       -1.07075262e+00,  1.05445173e+00, -4.03176947e-01,  1.22244507e+00,\n",
              "        2.08274978e-01,  9.76639036e-01,  3.56366397e-01,  7.06573168e-01,\n",
              "        1.05000207e-02,  1.78587049e+00,  1.26912093e-01,  4.01989363e-01,\n",
              "        1.88315070e+00, -1.34775906e+00, -1.27048500e+00,  9.69396708e-01,\n",
              "       -1.17312341e+00,  1.94362119e+00, -4.13618981e-01, -7.47454811e-01,\n",
              "        1.92294203e+00,  1.48051479e+00,  1.86755896e+00,  9.06044658e-01,\n",
              "       -8.61225685e-01,  1.91006495e+00, -2.68003371e-01,  8.02456396e-01,\n",
              "        9.47251968e-01, -1.55010093e-01,  6.14079370e-01,  9.22206672e-01,\n",
              "        3.76425531e-01, -1.09940079e+00,  2.98238174e-01,  1.32638590e+00,\n",
              "       -6.94567860e-01, -1.49634540e-01, -4.35153552e-01,  1.84926373e+00,\n",
              "        6.72294757e-01,  4.07461836e-01, -7.69916074e-01,  5.39249191e-01,\n",
              "       -6.74332661e-01,  3.18305583e-02, -6.35846078e-01,  6.76433295e-01,\n",
              "        5.76590817e-01, -2.08298756e-01,  3.96006713e-01, -1.09306151e+00,\n",
              "       -1.49125759e+00,  4.39391701e-01,  1.66673495e-01,  6.35031437e-01,\n",
              "        2.38314477e+00,  9.44479487e-01, -9.12822225e-01,  1.11701629e+00,\n",
              "       -1.31590741e+00, -4.61584605e-01, -6.82416053e-02,  1.71334272e+00,\n",
              "       -7.44754822e-01, -8.26438539e-01, -9.84525244e-02, -6.63478286e-01,\n",
              "        1.12663592e+00, -1.07993151e+00, -1.14746865e+00, -4.37820045e-01,\n",
              "       -4.98032451e-01,  1.92953205e+00,  9.49420807e-01,  8.75512414e-02,\n",
              "       -1.22543552e+00,  8.44362976e-01, -1.00021535e+00, -1.54477110e+00,\n",
              "        1.18802979e+00,  3.16942612e-01,  9.20858824e-01,  3.18727653e-01,\n",
              "        8.56830612e-01, -6.51025593e-01, -1.03424284e+00,  6.81594518e-01,\n",
              "       -8.03409664e-01, -6.89549778e-01, -4.55532504e-01,  1.74791590e-02,\n",
              "       -3.53993911e-01, -1.37495129e+00, -6.43618403e-01, -2.22340315e+00,\n",
              "        6.25231451e-01, -1.60205766e+00, -1.10438334e+00,  5.21650793e-02,\n",
              "       -7.39562996e-01,  1.54301460e+00, -1.29285691e+00,  2.67050869e-01,\n",
              "       -3.92828182e-02, -1.16809350e+00,  5.23276661e-01, -1.71546331e-01,\n",
              "        7.71790551e-01,  8.23504154e-01,  2.16323595e+00,  1.33652795e+00,\n",
              "       -3.69181838e-01, -2.39379178e-01,  1.09965960e+00,  6.55263731e-01,\n",
              "        6.40131526e-01, -1.61695604e+00, -2.43261244e-02, -7.38030909e-01,\n",
              "        2.79924599e-01, -9.81503896e-02,  9.10178908e-01,  3.17218215e-01,\n",
              "        7.86327962e-01, -4.66419097e-01, -9.44446256e-01, -4.10049693e-01,\n",
              "       -1.70204139e-02,  3.79151736e-01,  2.25930895e+00, -4.22571517e-02,\n",
              "       -9.55945000e-01, -3.45981776e-01, -4.63595975e-01,  4.81481474e-01,\n",
              "       -1.54079701e+00,  6.32619942e-02,  1.56506538e-01,  2.32181036e-01,\n",
              "       -5.97316069e-01, -2.37921730e-01, -1.42406091e+00, -4.93319883e-01,\n",
              "       -5.42861476e-01,  4.16050046e-01, -1.15618243e+00,  7.81198102e-01,\n",
              "        1.49448454e+00, -2.06998503e+00,  4.26258731e-01,  6.76908035e-01,\n",
              "       -6.37437026e-01, -3.97271814e-01, -1.32880578e-01, -2.97790879e-01,\n",
              "       -3.09012969e-01, -1.67600381e+00,  1.15233156e+00,  1.07961859e+00,\n",
              "       -8.13364259e-01, -1.46642433e+00,  5.21064876e-01, -5.75787970e-01,\n",
              "        1.41953163e-01, -3.19328417e-01,  6.91538751e-01,  6.94749144e-01,\n",
              "       -7.25597378e-01, -1.38336396e+00, -1.58293840e+00,  6.10379379e-01,\n",
              "       -1.18885926e+00, -5.06816354e-01, -5.96314038e-01, -5.25672963e-02,\n",
              "       -1.93627981e+00,  1.88778597e-01,  5.23891024e-01,  8.84220870e-02,\n",
              "       -3.10886172e-01,  9.74001663e-02,  3.99046346e-01, -2.77259276e+00,\n",
              "        1.95591231e+00,  3.90093323e-01, -6.52408582e-01, -3.90953375e-01,\n",
              "        4.93741777e-01, -1.16103939e-01, -2.03068447e+00,  2.06449286e+00,\n",
              "       -1.10540657e-01,  1.02017271e+00, -6.92049848e-01,  1.53637705e+00,\n",
              "        2.86343689e-01,  6.08843834e-01, -1.04525337e+00,  1.21114529e+00,\n",
              "        6.89818165e-01,  1.30184623e+00, -6.28087560e-01, -4.81027118e-01,\n",
              "        2.30391670e+00, -1.06001582e+00, -1.35949701e-01,  1.13689136e+00,\n",
              "        9.77249677e-02,  5.82953680e-01, -3.99449029e-01,  3.70055888e-01,\n",
              "       -1.30652685e+00,  1.65813068e+00, -1.18164045e-01, -6.80178204e-01,\n",
              "        6.66383082e-01, -4.60719787e-01, -1.33425847e+00, -1.34671751e+00,\n",
              "        6.93773153e-01, -1.59573438e-01, -1.33701560e-01,  1.07774381e+00,\n",
              "       -1.12682581e+00, -7.30677753e-01, -3.84879809e-01,  9.43515893e-02,\n",
              "       -4.21714513e-02, -2.86887192e-01, -6.16264021e-02, -1.07305276e-01,\n",
              "       -7.19604389e-01, -8.12992989e-01,  2.74516358e-01, -8.90915083e-01,\n",
              "       -1.15735526e+00, -3.12292251e-01, -1.57667016e-01,  2.25672350e+00,\n",
              "       -7.04700276e-01,  9.43260725e-01,  7.47188334e-01, -1.18894496e+00,\n",
              "        7.73252977e-01, -1.18388064e+00, -2.65917224e+00,  6.06319524e-01,\n",
              "       -1.75589058e+00,  4.50934462e-01, -6.84010898e-01,  1.65955080e+00,\n",
              "        1.06850940e+00, -4.53385804e-01, -6.87837611e-01, -1.21407740e+00,\n",
              "       -4.40922632e-01, -2.80355495e-01, -3.64693544e-01,  1.56703855e-01,\n",
              "        5.78521498e-01,  3.49654457e-01, -7.64143924e-01, -1.43779147e+00,\n",
              "        1.36453185e+00, -6.89449185e-01, -6.52293600e-01, -5.21189312e-01,\n",
              "       -1.84306955e+00, -4.77974004e-01, -4.79655814e-01,  6.20358298e-01,\n",
              "        6.98457149e-01,  3.77088909e-03,  9.31848374e-01,  3.39964984e-01,\n",
              "       -1.56821116e-02,  1.60928168e-01, -1.90653494e-01, -3.94849514e-01,\n",
              "       -2.67733537e-01, -1.12801133e+00,  2.80441705e-01, -9.93123611e-01,\n",
              "        8.41631264e-01, -2.49458580e-01,  4.94949817e-02,  4.93836776e-01,\n",
              "        6.43314465e-01, -1.57062341e+00, -2.06903676e-01,  8.80178912e-01,\n",
              "       -1.69810582e+00,  3.87280475e-01, -2.25556423e+00, -1.02250684e+00,\n",
              "        3.86305518e-02, -1.65671510e+00, -9.85510738e-01, -1.47183501e+00,\n",
              "        1.64813493e+00,  1.64227755e-01,  5.67290278e-01, -2.22675101e-01,\n",
              "       -3.53431749e-01, -1.61647419e+00, -2.91837363e-01, -7.61492212e-01,\n",
              "        8.57923924e-01,  1.14110187e+00,  1.46657872e+00,  8.52551939e-01,\n",
              "       -5.98653937e-01, -1.11589699e+00,  7.66663182e-01,  3.56292817e-01,\n",
              "       -1.76853845e+00,  3.55481793e-01,  8.14519822e-01,  5.89255892e-02,\n",
              "       -1.85053671e-01, -8.07648488e-01, -1.44653470e+00,  8.00297949e-01,\n",
              "       -3.09114445e-01, -2.33466662e-01,  1.73272119e+00,  6.84501107e-01,\n",
              "        3.70825001e-01,  1.42061805e-01,  1.51999486e+00,  1.71958931e+00,\n",
              "        9.29505111e-01,  5.82224591e-01, -2.09460307e+00,  1.23721914e-01,\n",
              "       -1.30106954e-01,  9.39532294e-02,  9.43046087e-01, -2.73967717e+00,\n",
              "       -5.69312053e-01,  2.69904355e-01, -4.66845546e-01, -1.41690611e+00,\n",
              "        8.68963487e-01,  2.76871906e-01, -9.71104570e-01,  3.14817205e-01,\n",
              "        8.21585712e-01,  5.29264630e-03,  8.00564803e-01,  7.82601752e-02,\n",
              "       -3.95228983e-01, -1.15942052e+00, -8.59307670e-02,  1.94292938e-01,\n",
              "        8.75832762e-01, -1.15107468e-01,  4.57415606e-01, -9.64612014e-01,\n",
              "       -7.82629156e-01, -1.10389299e-01, -1.05462846e+00,  8.20247837e-01,\n",
              "        4.63130329e-01,  2.79095764e-01,  3.38904125e-01,  2.02104356e+00,\n",
              "       -4.68864188e-01, -2.20144129e+00,  1.99300197e-01, -5.06035410e-02,\n",
              "       -5.17519043e-01, -9.78829859e-01, -4.39189522e-01,  1.81338429e-01,\n",
              "       -5.02816701e-01,  2.41245368e+00, -9.60504382e-01, -7.93117363e-01,\n",
              "       -2.28862004e+00,  2.51484415e-01, -2.01640663e+00, -5.39454633e-01,\n",
              "       -2.75670535e-01, -7.09727966e-01,  1.73887268e+00,  9.94394391e-01,\n",
              "        1.31913688e+00, -8.82418819e-01,  1.12859406e+00,  4.96000946e-01,\n",
              "        7.71405949e-01,  1.02943883e+00, -9.08763246e-01, -4.24317621e-01,\n",
              "        8.62596011e-01, -2.65561909e+00,  1.51332808e+00,  5.53132064e-01,\n",
              "       -4.57039607e-02,  2.20507656e-01, -1.02993528e+00, -3.49943365e-01,\n",
              "        1.10028434e+00,  1.29802197e+00,  2.69622405e+00, -7.39246663e-02,\n",
              "       -6.58552967e-01, -5.14233966e-01, -1.01804188e+00, -7.78547559e-02,\n",
              "        2.38273243e+00,  1.96575772e+00,  3.09634685e+00,  1.76578420e+00,\n",
              "        1.65254935e+00,  1.41873152e+00,  3.67365474e-01,  4.32232276e-01,\n",
              "        8.20842069e-01,  3.30142807e+00,  2.89526027e+00,  3.37496407e+00,\n",
              "        6.67788345e-01,  3.13753102e-02,  1.33994368e+00,  2.17581895e+00,\n",
              "        2.49869027e+00,  3.04797216e+00,  2.28427967e+00,  3.74266878e+00,\n",
              "        1.77739432e+00,  1.08692078e+00,  3.18781785e-01,  1.11102864e+00,\n",
              "        2.24211796e+00,  1.11127974e+00,  2.93674246e+00,  3.41232771e+00,\n",
              "       -3.69586905e-01,  2.86405230e+00, -2.39604059e-01,  2.40149906e+00,\n",
              "        3.22487056e+00,  2.06485611e+00,  7.20310827e-01,  1.41456880e+00,\n",
              "        1.73835455e+00,  1.81775522e+00,  1.79710316e+00,  1.89011722e+00,\n",
              "        2.21348005e+00,  7.91426346e-01,  1.75798017e+00,  3.51826117e+00,\n",
              "        1.61535458e+00,  1.55616391e+00,  3.07819730e+00, -5.59184666e-01,\n",
              "        3.18137860e+00,  1.36809624e+00,  2.16392857e+00,  2.09632136e+00,\n",
              "        2.94246812e+00,  1.73240525e+00,  1.32197422e+00,  3.29784579e+00,\n",
              "       -3.64173817e-01,  2.02033418e+00,  6.52074577e-01,  1.23842661e+00,\n",
              "        4.01125668e+00,  1.95540457e+00,  2.19506970e+00,  2.18437144e-01,\n",
              "        1.27095534e+00,  2.19655740e+00,  2.35475769e+00,  2.61688655e+00,\n",
              "        2.00862790e+00,  2.52700421e+00,  2.45378191e+00,  1.70259589e-01,\n",
              "        2.03700572e+00,  2.76790241e+00,  2.58987982e+00,  1.63614119e+00,\n",
              "        1.19437349e+00,  8.81688076e-01,  1.86894599e+00,  3.13307988e+00,\n",
              "        4.81958985e-02,  1.34010827e+00,  8.60197545e-01,  2.78495752e+00,\n",
              "        1.44569037e+00,  1.52936234e+00,  1.78305043e+00,  2.44539325e+00,\n",
              "        1.60761100e+00, -1.04614305e+00,  2.54331189e+00,  2.43904296e+00,\n",
              "        1.78045897e+00,  9.15963379e-01,  2.35178011e+00,  2.37923553e+00,\n",
              "        1.52996712e+00,  1.78326853e+00,  1.06984350e+00,  1.82141091e+00,\n",
              "        4.49570655e-01,  2.41731882e+00,  1.05563151e+00,  2.23810315e+00,\n",
              "        5.94037084e-01,  1.40994235e+00,  1.88951059e+00,  3.39300188e-01,\n",
              "        2.11514787e+00,  1.62085244e+00,  2.57643802e-01,  6.96757246e-01,\n",
              "        2.60512008e+00,  2.89555599e+00,  1.86809136e+00,  2.40476181e+00,\n",
              "        2.22384356e+00,  2.32962298e+00,  3.28598401e+00,  4.93001602e-01,\n",
              "        2.67646073e+00,  1.61799104e+00,  1.77574107e+00,  1.69775027e+00,\n",
              "        1.62485288e+00,  7.73803808e-01,  2.18333920e+00,  3.67094303e+00,\n",
              "        1.94386698e+00,  1.99861496e+00,  1.31270096e+00,  1.88252545e+00,\n",
              "        2.46616643e+00,  1.62975756e+00,  1.54619596e+00,  2.40326454e+00,\n",
              "        1.08199523e+00,  2.25249663e+00,  2.82032180e+00,  3.35994854e+00,\n",
              "        1.90961799e+00,  3.36759724e+00,  3.03440989e+00,  1.00378736e+00,\n",
              "        7.82061488e-01,  1.69503636e+00,  3.02893549e+00,  1.92771299e+00,\n",
              "        1.39934244e+00,  3.55224318e+00,  2.28690449e+00, -3.20594276e-01,\n",
              "        2.31716063e+00,  2.52004061e+00,  2.22560865e+00,  2.44971210e+00,\n",
              "        1.93272439e+00,  6.81604130e-01,  1.62929600e+00,  1.05438420e+00,\n",
              "        1.06725909e+00,  7.36931651e-01,  2.45248909e+00,  2.09789615e+00,\n",
              "        1.55183464e+00,  1.35066207e+00,  1.97657689e+00,  3.07919473e+00,\n",
              "       -4.21571550e-03,  2.37687652e+00,  1.45428803e+00,  1.15414155e-01,\n",
              "        5.42969168e-02,  1.08721651e+00,  2.21950956e+00,  2.39306293e+00,\n",
              "        1.06101843e+00,  3.01702099e+00,  3.42298350e+00,  2.39608658e+00,\n",
              "        1.40859733e+00,  3.12441918e+00,  2.75539570e+00,  2.86740741e+00,\n",
              "        1.34353633e+00, -8.34554505e-01,  4.11679102e+00,  3.89121597e-01,\n",
              "        1.96423193e+00,  4.38074535e+00,  2.33057676e+00,  2.94924647e+00,\n",
              "        4.97603431e-01,  2.22333045e-01,  1.46729721e+00,  3.09074973e+00,\n",
              "        1.65375055e+00,  1.20536368e+00,  2.19796729e+00,  3.08193522e+00,\n",
              "        5.55059801e-01,  7.89457006e-01,  1.21133075e+00,  3.09463837e+00,\n",
              "        2.23482153e+00,  4.13215341e+00,  2.93644573e+00,  1.96490482e+00,\n",
              "        3.26507784e+00,  2.21149701e+00,  1.29507865e+00,  2.67997484e+00,\n",
              "        1.30367335e+00,  1.70960290e+00,  3.32778270e+00,  1.89871851e+00,\n",
              "        1.19685861e+00,  1.53566231e+00,  3.02179059e+00,  1.44745933e+00,\n",
              "        1.61312915e+00,  1.48970726e+00,  2.18392549e+00,  1.61451024e+00,\n",
              "        3.98163951e-01,  1.11281906e+00,  1.06721096e+00,  3.24331938e+00,\n",
              "        2.81267404e+00,  2.58725938e+00,  1.49464168e+00,  1.18420846e+00,\n",
              "        1.49248240e+00,  9.48119897e-01,  4.49720039e+00, -2.45321648e-01,\n",
              "        2.56400854e+00,  7.15447702e-01,  1.89565651e+00,  1.01199806e+00,\n",
              "        8.22371038e-01,  8.59803699e-01,  3.75498615e+00,  1.86701158e+00,\n",
              "        1.23429781e+00,  2.55578696e+00,  2.01034931e+00,  2.72003376e+00,\n",
              "        1.75743344e-01,  2.30360390e+00,  2.77269484e+00,  3.38401709e-01,\n",
              "        2.44819528e+00,  3.69618157e+00,  1.98514230e+00,  2.82140594e+00,\n",
              "        2.67057045e+00,  1.29249430e+00,  2.03976673e+00,  4.33005289e-01,\n",
              "        1.54869696e+00,  2.26568797e+00,  2.72310049e+00,  2.02461213e+00,\n",
              "        2.71998373e+00,  8.97093787e-01,  1.89830273e+00,  2.01927938e+00,\n",
              "        3.84959125e+00,  1.78583334e+00,  1.50098336e+00,  2.02135122e+00,\n",
              "        1.08088656e+00,  2.19275385e+00,  1.63494478e+00,  2.08672452e-01,\n",
              "        1.94141345e+00,  1.68245691e+00,  3.67576698e-01,  1.93286585e+00,\n",
              "        3.48935596e+00,  2.52130375e+00,  2.61192719e+00,  6.58503274e-01,\n",
              "        2.47689837e+00,  2.14844958e+00,  2.52904524e+00,  2.42262862e+00,\n",
              "        6.40219274e-01,  1.95859919e+00,  1.24212914e+00,  1.94991591e+00,\n",
              "        1.10259907e+00,  3.31247037e+00,  1.14102761e+00,  1.10105784e+00,\n",
              "        2.07458641e+00,  9.22900931e-01,  1.57533670e+00,  1.17003540e+00,\n",
              "        3.41117206e+00,  2.78580383e+00,  1.94253048e+00,  1.60878295e+00,\n",
              "        2.94091761e+00,  2.40520408e+00,  2.49805240e+00,  1.97380776e+00,\n",
              "        3.11769972e-01,  1.88753402e+00,  1.46751008e+00,  2.64505527e+00,\n",
              "        3.01184243e+00,  1.34204896e+00,  2.46838523e+00,  3.73587900e+00,\n",
              "        1.33228728e+00,  3.68192174e+00,  1.14741415e+00,  2.02295976e+00,\n",
              "        1.98885439e+00,  2.01149890e+00,  1.16232196e+00,  1.40881690e+00,\n",
              "        1.33227971e+00,  2.32696260e+00,  2.33003511e+00,  4.22594433e+00,\n",
              "        3.37098901e+00,  1.49015676e+00,  2.32486962e+00,  2.99711798e+00,\n",
              "        2.03060182e+00,  1.93035842e+00,  2.05157494e+00,  2.86727663e+00,\n",
              "        1.15167948e+00,  1.67433053e+00,  2.47043314e+00,  2.31144707e+00,\n",
              "        2.23958276e+00,  1.63019883e+00,  2.97253579e+00,  4.13386825e+00,\n",
              "        2.40641549e+00,  1.80682330e+00,  2.75574029e+00,  1.46086736e+00,\n",
              "        1.25030966e+00,  2.03280875e+00, -5.82796633e-01,  8.46049636e-01,\n",
              "        1.65203814e+00,  6.46611142e-01,  9.67356898e-01,  1.56325166e+00,\n",
              "        3.57034706e-01,  1.59392820e+00,  1.46472984e+00,  2.02540521e+00,\n",
              "        3.15418403e+00,  2.17250442e+00,  2.02106202e+00,  2.09945446e+00,\n",
              "        2.22739278e+00,  9.83261351e-01,  1.88522468e+00,  2.30875124e+00,\n",
              "        6.29240017e-01,  2.86565292e+00,  3.08137603e+00,  1.36862401e+00,\n",
              "        1.75866221e+00,  1.12180966e+00,  2.69938048e+00,  9.38777713e-01,\n",
              "        1.77752299e+00,  1.14108009e+00,  2.05095428e+00,  2.05770729e-01,\n",
              "        3.32646164e+00,  1.03539358e+00,  2.05989468e+00,  1.78747696e+00,\n",
              "        1.23788549e+00,  1.11221986e+00,  2.93639854e+00,  1.47435941e+00,\n",
              "        2.27117018e+00,  1.19850311e+00,  1.35281857e+00,  2.47224715e+00,\n",
              "        2.93040850e+00,  1.82468360e+00,  5.78080128e-01,  3.99795608e+00,\n",
              "        1.14345069e+00,  4.58412600e-01,  4.59442459e+00,  1.59596771e+00,\n",
              "        5.38267312e-01,  1.31656023e+00,  2.36754490e+00,  2.19031156e+00,\n",
              "        1.14827080e+00,  3.82272360e+00,  1.47842032e+00,  8.15313410e-01,\n",
              "        2.96069340e+00,  3.32906285e+00,  1.18250690e+00,  5.98652707e-01,\n",
              "        3.03043827e+00, -4.73236131e-02,  7.73378341e-01,  2.96744615e+00,\n",
              "        1.94464745e+00,  1.73606265e+00,  2.35281661e+00,  1.84722558e+00,\n",
              "        7.01313278e-01,  3.27607535e+00,  3.32501405e+00,  2.20533256e+00,\n",
              "        2.04513402e+00,  4.33962481e+00,  1.72356715e+00,  1.74042302e+00,\n",
              "        2.36448125e+00,  3.47132196e+00,  3.59277075e+00,  1.74142737e+00,\n",
              "        2.30833125e+00,  6.21916533e-01,  1.68802389e+00,  1.15970960e+00,\n",
              "        9.93168248e-01,  3.68157672e+00,  1.20771334e+00,  1.46839409e+00,\n",
              "        2.36584879e+00,  3.29782527e+00,  2.48111513e+00,  4.75935511e+00,\n",
              "        1.92533202e+00,  2.25871644e+00,  2.27560067e+00,  3.43504939e+00,\n",
              "        2.50723895e+00,  1.88377030e+00,  1.05251141e+00,  2.24444346e+00,\n",
              "        3.40134483e+00,  1.58961821e+00,  2.52894362e+00,  2.24614779e+00,\n",
              "        2.86351966e+00,  1.19524626e+00,  4.34664703e+00,  7.20838893e-01,\n",
              "        1.63444891e+00,  2.93809254e+00,  2.29673317e+00,  2.82998616e+00,\n",
              "        1.50389767e+00,  1.92519502e+00,  2.01223198e+00,  3.56925961e+00,\n",
              "        2.69042902e+00,  2.79667211e+00,  1.34207391e+00,  2.96888264e+00,\n",
              "        2.22558166e+00,  3.38914532e+00,  4.01406015e+00,  1.69323422e+00,\n",
              "        1.59369687e+00,  1.13595501e+00,  1.85642049e+00,  1.61797455e+00,\n",
              "        2.35950440e+00,  1.85543318e+00,  1.63840072e+00,  3.06458514e+00,\n",
              "        1.06211977e+00,  2.43310795e+00,  1.59405827e+00,  2.72436850e+00,\n",
              "        3.38526155e+00,  1.69690175e+00,  2.44103291e+00,  2.17879287e+00,\n",
              "        1.20057760e+00,  2.24078751e+00,  2.28912051e+00,  2.41287082e+00,\n",
              "        1.80160110e+00,  2.09419230e+00,  8.52389055e-01,  1.64188592e+00])"
            ]
          },
          "metadata": {},
          "execution_count": 99
        }
      ]
    },
    {
      "cell_type": "code",
      "source": [
        "z = ZNumber()\n",
        "z.fit(data, bins_max=100, bins_step=5, defuzzify='peak', u_min=-4, u_max=6, u_step=2)\n",
        "z.plot()"
      ],
      "metadata": {
        "colab": {
          "base_uri": "https://localhost:8080/",
          "height": 519
        },
        "id": "hgpdxD5nXqro",
        "outputId": "cbd30891-b1ad-4f06-8ea7-8afbe2922d39"
      },
      "execution_count": null,
      "outputs": [
        {
          "output_type": "stream",
          "name": "stderr",
          "text": [
            "100%|██████████| 6/6 [00:37<00:00,  6.17s/it]\n"
          ]
        },
        {
          "output_type": "stream",
          "name": "stdout",
          "text": [
            "A = FS(-2.0, 0.0, 2.0, 4.0)\n",
            "B = FS(0.7097033618235745, 0.8004213047325306, 0.8167687499092329)\n"
          ]
        },
        {
          "output_type": "display_data",
          "data": {
            "text/plain": [
              "<Figure size 1000x500 with 2 Axes>"
            ],
            "image/png": "[encoded data removed]"
          },
          "metadata": {}
        }
      ]
    },
    {
      "cell_type": "code",
      "source": [
        "z = ZNumber()\n",
        "z.fit(data, bins_max = 100, bins_step = 5, defuzzify='peak', u_min=-4, u_max=6, u_step=2, optimize='b', s_threshold=0.5)\n",
        "z.plot()"
      ],
      "metadata": {
        "colab": {
          "base_uri": "https://localhost:8080/",
          "height": 519
        },
        "id": "oKt09M3dh7Ie",
        "outputId": "86231012-d3fd-4f45-96bf-65a8c2c9982c"
      },
      "execution_count": null,
      "outputs": [
        {
          "output_type": "stream",
          "name": "stderr",
          "text": [
            "100%|██████████| 6/6 [00:28<00:00,  4.71s/it]\n"
          ]
        },
        {
          "output_type": "stream",
          "name": "stdout",
          "text": [
            "A = FS(-2.0, -2.0, 2.0, 4.0)\n",
            "B = FS(0.7986964908146827, 0.8936464734250231, 0.90689309343801)\n"
          ]
        },
        {
          "output_type": "display_data",
          "data": {
            "text/plain": [
              "<Figure size 1000x500 with 2 Axes>"
            ],
            "image/png": "[encoded data removed]"
          },
          "metadata": {}
        }
      ]
    },
    {
      "cell_type": "code",
      "source": [
        "z = ZNumber()\n",
        "z.fit(data, bins_max = 100, bins_step = 5, defuzzify='peak', u_min=-4, u_max=6, u_step=2, optimize='both', beta=0.5)\n",
        "z.plot()"
      ],
      "metadata": {
        "colab": {
          "base_uri": "https://localhost:8080/",
          "height": 519
        },
        "id": "vAVvoDeziTOq",
        "outputId": "bdcd4070-9ceb-4c7e-87fb-71c4e7950e0c"
      },
      "execution_count": null,
      "outputs": [
        {
          "output_type": "stream",
          "name": "stderr",
          "text": [
            "100%|██████████| 6/6 [00:37<00:00,  6.18s/it]\n"
          ]
        },
        {
          "output_type": "stream",
          "name": "stdout",
          "text": [
            "A = FS(-2.0, 0.0, 2.0, 4.0)\n",
            "B = FS(0.7097033618235745, 0.8004213047325306, 0.8167687499092329)\n"
          ]
        },
        {
          "output_type": "display_data",
          "data": {
            "text/plain": [
              "<Figure size 1000x500 with 2 Axes>"
            ],
            "image/png": "[encoded data removed]"
          },
          "metadata": {}
        }
      ]
    }
  ]
}